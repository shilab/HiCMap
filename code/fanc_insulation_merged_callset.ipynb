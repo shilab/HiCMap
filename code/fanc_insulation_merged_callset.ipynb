{
 "cells": [
  {
   "cell_type": "code",
   "execution_count": 1,
   "id": "cf465a65",
   "metadata": {},
   "outputs": [
    {
     "name": "stdout",
     "output_type": "stream",
     "text": [
      "Defaulting to user installation because normal site-packages is not writeable\n",
      "Processing ./fanc-0.9.23b4.tar.gz\n",
      "  Preparing metadata (setup.py) ... \u001b[?25ldone\n",
      "\u001b[?25hRequirement already satisfied: numpy>=1.16.0 in /home/tun53987/.local/lib/python3.7/site-packages (from fanc==0.9.23b4) (1.20.2)\n",
      "Requirement already satisfied: scipy in /home/tun53987/.local/lib/python3.7/site-packages (from fanc==0.9.23b4) (1.7.3)\n",
      "Requirement already satisfied: pillow in /home/tun53987/.local/lib/python3.7/site-packages (from fanc==0.9.23b4) (8.0.1)\n",
      "Requirement already satisfied: matplotlib>=3.1.0 in /home/tun53987/.local/lib/python3.7/site-packages (from fanc==0.9.23b4) (3.3.3)\n",
      "Requirement already satisfied: pandas>=0.15.0 in /home/tun53987/.local/lib/python3.7/site-packages (from fanc==0.9.23b4) (1.2.4)\n",
      "Requirement already satisfied: pysam>=0.9.1 in /home/tun53987/.local/lib/python3.7/site-packages (from fanc==0.9.23b4) (0.16.0.1)\n",
      "Requirement already satisfied: biopython in /home/tun53987/.local/lib/python3.7/site-packages (from fanc==0.9.23b4) (1.79)\n",
      "Requirement already satisfied: pytest in /home/tun53987/.local/lib/python3.7/site-packages (from fanc==0.9.23b4) (6.2.4)\n",
      "Requirement already satisfied: msgpack>=1.0.0 in /home/tun53987/.local/lib/python3.7/site-packages (from fanc==0.9.23b4) (1.0.2)\n",
      "Requirement already satisfied: msgpack-numpy>=0.4.6.1 in /home/tun53987/.local/lib/python3.7/site-packages (from fanc==0.9.23b4) (0.4.7.1)\n",
      "Requirement already satisfied: scikit-learn in /home/tun53987/.local/lib/python3.7/site-packages (from fanc==0.9.23b4) (0.24.1)\n",
      "Requirement already satisfied: progressbar2 in /home/tun53987/.local/lib/python3.7/site-packages (from fanc==0.9.23b4) (3.53.1)\n",
      "Requirement already satisfied: pybedtools in /home/tun53987/.local/lib/python3.7/site-packages (from fanc==0.9.23b4) (0.8.2)\n",
      "Requirement already satisfied: pyBigWig in /home/tun53987/.local/lib/python3.7/site-packages (from fanc==0.9.23b4) (0.3.18)\n",
      "Requirement already satisfied: PyYAML>=5.1 in /home/tun53987/.local/lib/python3.7/site-packages (from fanc==0.9.23b4) (5.4.1)\n",
      "Requirement already satisfied: tables>=3.5.1 in /home/tun53987/.local/lib/python3.7/site-packages (from fanc==0.9.23b4) (3.6.1)\n",
      "Requirement already satisfied: seaborn in /home/tun53987/.local/lib/python3.7/site-packages (from fanc==0.9.23b4) (0.11.1)\n",
      "Requirement already satisfied: future in /home/tun53987/.local/lib/python3.7/site-packages (from fanc==0.9.23b4) (0.18.2)\n",
      "Requirement already satisfied: gridmap>=0.14.0 in /home/tun53987/.local/lib/python3.7/site-packages (from fanc==0.9.23b4) (0.15.0)\n",
      "Requirement already satisfied: intervaltree in /home/tun53987/.local/lib/python3.7/site-packages (from fanc==0.9.23b4) (3.1.0)\n",
      "Requirement already satisfied: genomic_regions>=0.0.10 in /home/tun53987/.local/lib/python3.7/site-packages (from fanc==0.9.23b4) (0.0.10)\n",
      "Requirement already satisfied: scikit-image>=0.15.0 in /home/tun53987/.local/lib/python3.7/site-packages (from fanc==0.9.23b4) (0.18.1)\n",
      "Requirement already satisfied: cooler>=0.8.0 in /home/tun53987/.local/lib/python3.7/site-packages (from fanc==0.9.23b4) (0.8.11)\n",
      "Requirement already satisfied: h5py in /home/tun53987/.local/lib/python3.7/site-packages (from fanc==0.9.23b4) (3.1.0)\n",
      "Requirement already satisfied: Deprecated in /home/tun53987/.local/lib/python3.7/site-packages (from fanc==0.9.23b4) (1.2.13)\n",
      "Requirement already satisfied: pyfaidx in /home/tun53987/.local/lib/python3.7/site-packages (from cooler>=0.8.0->fanc==0.9.23b4) (0.5.9.5)\n",
      "Requirement already satisfied: simplejson in /home/tun53987/.local/lib/python3.7/site-packages (from cooler>=0.8.0->fanc==0.9.23b4) (3.17.2)\n",
      "Requirement already satisfied: asciitree in /home/tun53987/.local/lib/python3.7/site-packages (from cooler>=0.8.0->fanc==0.9.23b4) (0.3.3)\n",
      "Requirement already satisfied: six in /home/tun53987/.local/lib/python3.7/site-packages (from cooler>=0.8.0->fanc==0.9.23b4) (1.15.0)\n",
      "Requirement already satisfied: click>=7 in /home/tun53987/.local/lib/python3.7/site-packages (from cooler>=0.8.0->fanc==0.9.23b4) (8.0.0)\n",
      "Requirement already satisfied: multiprocess in /home/tun53987/.local/lib/python3.7/site-packages (from cooler>=0.8.0->fanc==0.9.23b4) (0.70.11.1)\n",
      "Requirement already satisfied: pypairix in /home/tun53987/.local/lib/python3.7/site-packages (from cooler>=0.8.0->fanc==0.9.23b4) (0.3.7)\n",
      "Requirement already satisfied: cytoolz<0.11 in /home/tun53987/.local/lib/python3.7/site-packages (from cooler>=0.8.0->fanc==0.9.23b4) (0.10.1)\n",
      "Requirement already satisfied: cloudpickle in /home/tun53987/.local/lib/python3.7/site-packages (from gridmap>=0.14.0->fanc==0.9.23b4) (1.6.0)\n",
      "Requirement already satisfied: drmaa in /home/tun53987/.local/lib/python3.7/site-packages (from gridmap>=0.14.0->fanc==0.9.23b4) (0.7.9)\n",
      "Requirement already satisfied: psutil>=2.0.0 in /home/tun53987/.local/lib/python3.7/site-packages (from gridmap>=0.14.0->fanc==0.9.23b4) (5.8.0)\n",
      "Requirement already satisfied: pyzmq in /home/tun53987/.local/lib/python3.7/site-packages (from gridmap>=0.14.0->fanc==0.9.23b4) (21.0.1)\n",
      "Requirement already satisfied: cached-property in /home/tun53987/.local/lib/python3.7/site-packages (from h5py->fanc==0.9.23b4) (1.5.2)\n",
      "Requirement already satisfied: cycler>=0.10 in /home/tun53987/.local/lib/python3.7/site-packages (from matplotlib>=3.1.0->fanc==0.9.23b4) (0.10.0)\n",
      "Requirement already satisfied: python-dateutil>=2.1 in /home/tun53987/.local/lib/python3.7/site-packages (from matplotlib>=3.1.0->fanc==0.9.23b4) (2.8.1)\n",
      "Requirement already satisfied: kiwisolver>=1.0.1 in /home/tun53987/.local/lib/python3.7/site-packages (from matplotlib>=3.1.0->fanc==0.9.23b4) (1.3.1)\n",
      "Requirement already satisfied: pyparsing!=2.0.4,!=2.1.2,!=2.1.6,>=2.0.3 in /home/tun53987/.local/lib/python3.7/site-packages (from matplotlib>=3.1.0->fanc==0.9.23b4) (2.4.7)\n",
      "Requirement already satisfied: pytz>=2017.3 in /home/tun53987/.local/lib/python3.7/site-packages (from pandas>=0.15.0->fanc==0.9.23b4) (2020.1)\n",
      "Requirement already satisfied: imageio>=2.3.0 in /home/tun53987/.local/lib/python3.7/site-packages (from scikit-image>=0.15.0->fanc==0.9.23b4) (2.9.0)\n",
      "Requirement already satisfied: networkx>=2.0 in /home/tun53987/.local/lib/python3.7/site-packages (from scikit-image>=0.15.0->fanc==0.9.23b4) (2.5.1)\n",
      "Requirement already satisfied: PyWavelets>=1.1.1 in /home/tun53987/.local/lib/python3.7/site-packages (from scikit-image>=0.15.0->fanc==0.9.23b4) (1.1.1)\n",
      "Requirement already satisfied: tifffile>=2019.7.26 in /home/tun53987/.local/lib/python3.7/site-packages (from scikit-image>=0.15.0->fanc==0.9.23b4) (2021.6.6)\n",
      "Requirement already satisfied: numexpr>=2.6.2 in /home/tun53987/.local/lib/python3.7/site-packages (from tables>=3.5.1->fanc==0.9.23b4) (2.7.3)\n",
      "Requirement already satisfied: wrapt<2,>=1.10 in /home/tun53987/.local/lib/python3.7/site-packages (from Deprecated->fanc==0.9.23b4) (1.13.3)\n",
      "Requirement already satisfied: sortedcontainers<3.0,>=2.0 in /home/tun53987/.local/lib/python3.7/site-packages (from intervaltree->fanc==0.9.23b4) (2.4.0)\n",
      "Requirement already satisfied: python-utils>=2.3.0 in /home/tun53987/.local/lib/python3.7/site-packages (from progressbar2->fanc==0.9.23b4) (2.5.6)\n",
      "Requirement already satisfied: toml in /home/tun53987/.local/lib/python3.7/site-packages (from pytest->fanc==0.9.23b4) (0.10.2)\n",
      "Requirement already satisfied: packaging in /home/tun53987/.local/lib/python3.7/site-packages (from pytest->fanc==0.9.23b4) (20.8)\n",
      "Requirement already satisfied: attrs>=19.2.0 in /home/tun53987/.local/lib/python3.7/site-packages (from pytest->fanc==0.9.23b4) (20.3.0)\n",
      "Requirement already satisfied: importlib-metadata>=0.12 in /home/tun53987/.local/lib/python3.7/site-packages (from pytest->fanc==0.9.23b4) (3.4.0)\n",
      "Requirement already satisfied: py>=1.8.2 in /home/tun53987/.local/lib/python3.7/site-packages (from pytest->fanc==0.9.23b4) (1.10.0)\n",
      "Requirement already satisfied: pluggy<1.0.0a1,>=0.12 in /home/tun53987/.local/lib/python3.7/site-packages (from pytest->fanc==0.9.23b4) (0.13.1)\n",
      "Requirement already satisfied: iniconfig in /home/tun53987/.local/lib/python3.7/site-packages (from pytest->fanc==0.9.23b4) (1.1.1)\n",
      "Requirement already satisfied: joblib>=0.11 in /home/tun53987/.local/lib/python3.7/site-packages (from scikit-learn->fanc==0.9.23b4) (0.17.0)\n",
      "Requirement already satisfied: threadpoolctl>=2.0.0 in /home/tun53987/.local/lib/python3.7/site-packages (from scikit-learn->fanc==0.9.23b4) (2.1.0)\n",
      "Requirement already satisfied: toolz>=0.8.0 in /home/tun53987/.local/lib/python3.7/site-packages (from cytoolz<0.11->cooler>=0.8.0->fanc==0.9.23b4) (0.11.1)\n",
      "Requirement already satisfied: zipp>=0.5 in /home/tun53987/.local/lib/python3.7/site-packages (from importlib-metadata>=0.12->pytest->fanc==0.9.23b4) (3.4.0)\n",
      "Requirement already satisfied: typing-extensions>=3.6.4 in /home/tun53987/.local/lib/python3.7/site-packages (from importlib-metadata>=0.12->pytest->fanc==0.9.23b4) (3.7.4.3)\n",
      "Requirement already satisfied: decorator<5,>=4.3 in /home/tun53987/.local/lib/python3.7/site-packages (from networkx>=2.0->scikit-image>=0.15.0->fanc==0.9.23b4) (4.4.2)\n",
      "Requirement already satisfied: dill>=0.3.3 in /home/tun53987/.local/lib/python3.7/site-packages (from multiprocess->cooler>=0.8.0->fanc==0.9.23b4) (0.3.3)\n",
      "Requirement already satisfied: setuptools>=0.7 in /data/opt/tools/python-3.7.3/lib/python3.7/site-packages (from pyfaidx->cooler>=0.8.0->fanc==0.9.23b4) (40.8.0)\n",
      "Using legacy 'setup.py install' for fanc, since package 'wheel' is not installed.\n",
      "Installing collected packages: fanc\n",
      "  Attempting uninstall: fanc\n",
      "    Found existing installation: fanc 0.9.23b4\n",
      "    Uninstalling fanc-0.9.23b4:\n",
      "      Successfully uninstalled fanc-0.9.23b4\n",
      "  Running setup.py install for fanc ... \u001b[?25ldone\n",
      "\u001b[?25hSuccessfully installed fanc-0.9.23b4\n",
      "Note: you may need to restart the kernel to use updated packages.\n"
     ]
    }
   ],
   "source": [
    "pip install fanc-0.9.23b4.tar.gz"
   ]
  },
  {
   "cell_type": "code",
   "execution_count": 1,
   "id": "hidden-bible",
   "metadata": {},
   "outputs": [],
   "source": [
    "import fanc\n",
    "import fanc.plotting as fancplot\n",
    "import logging"
   ]
  },
  {
   "cell_type": "code",
   "execution_count": 4,
   "id": "broken-spokesman",
   "metadata": {},
   "outputs": [],
   "source": [
    "import os\n",
    "os.chdir('/home/Hi-C/experiment_mergeall')\n",
    "os.getcwd()"
   ]
  },
  {
   "cell_type": "code",
   "execution_count": 4,
   "id": "heated-helena",
   "metadata": {},
   "outputs": [],
   "source": [
    "logging.basicConfig(level=logging.INFO, format=\"%(asctime)s %(levelname)s %(message)s\")"
   ]
  },
  {
   "cell_type": "code",
   "execution_count": 5,
   "id": "together-image",
   "metadata": {},
   "outputs": [],
   "source": [
    "hic_10kb = fanc.load(\"inter_30.hic@10kb\")"
   ]
  },
  {
   "cell_type": "code",
   "execution_count": 6,
   "id": "included-mediterranean",
   "metadata": {},
   "outputs": [
    {
     "name": "stdout",
     "output_type": "stream",
     "text": [
      "0.9.23b4\r\n"
     ]
    }
   ],
   "source": [
    "!fanc -V"
   ]
  },
  {
   "cell_type": "code",
   "execution_count": 7,
   "id": "appointed-seeking",
   "metadata": {},
   "outputs": [],
   "source": [
    "bp_resolutions, fragment_resolutions = hic_10kb.resolutions()"
   ]
  },
  {
   "cell_type": "code",
   "execution_count": 8,
   "id": "floppy-jaguar",
   "metadata": {},
   "outputs": [
    {
     "data": {
      "text/plain": [
       "[500, 200, 100, 50, 20, 5, 2, 1]"
      ]
     },
     "execution_count": 8,
     "metadata": {},
     "output_type": "execute_result"
    }
   ],
   "source": [
    "fragment_resolutions"
   ]
  },
  {
   "cell_type": "code",
   "execution_count": 9,
   "id": "emotional-passport",
   "metadata": {},
   "outputs": [
    {
     "data": {
      "text/plain": [
       "[2500000, 1000000, 500000, 250000, 100000, 50000, 25000, 10000, 5000, 1000]"
      ]
     },
     "execution_count": 9,
     "metadata": {},
     "output_type": "execute_result"
    }
   ],
   "source": [
    "bp_resolutions"
   ]
  },
  {
   "cell_type": "code",
   "execution_count": 5,
   "id": "intended-myanmar",
   "metadata": {},
   "outputs": [
    {
     "name": "stderr",
     "output_type": "stream",
     "text": [
      "2022-06-07 21:16:28,849 INFO chr1 (1/25)\n",
      "2022-06-07 21:18:03,862 INFO chr2 (2/25)\n",
      "2022-06-07 21:19:54,418 INFO chr3 (3/25)\n",
      "2022-06-07 21:21:25,972 INFO chr4 (4/25)\n",
      "2022-06-07 21:22:57,485 INFO chr5 (5/25)\n",
      "2022-06-07 21:24:19,724 INFO chr6 (6/25)\n",
      "2022-06-07 21:25:38,625 INFO chr7 (7/25)\n",
      "2022-06-07 21:26:47,768 INFO chr8 (8/25)\n",
      "2022-06-07 21:27:55,869 INFO chr9 (9/25)\n",
      "2022-06-07 21:28:44,592 INFO chr10 (10/25)\n",
      "2022-06-07 21:29:43,748 INFO chr11 (11/25)\n",
      "2022-06-07 21:30:41,556 INFO chr12 (12/25)\n",
      "2022-06-07 21:31:40,856 INFO chr13 (13/25)\n",
      "2022-06-07 21:32:29,303 INFO chr14 (14/25)\n",
      "2022-06-07 21:33:09,269 INFO chr15 (15/25)\n",
      "2022-06-07 21:33:42,713 INFO chr16 (16/25)\n",
      "2022-06-07 21:34:13,986 INFO chr17 (17/25)\n",
      "2022-06-07 21:34:44,021 INFO chr18 (18/25)\n",
      "2022-06-07 21:35:21,649 INFO chr19 (19/25)\n",
      "2022-06-07 21:35:45,164 INFO chr20 (20/25)\n",
      "2022-06-07 21:36:12,869 INFO chr21 (21/25)\n",
      "2022-06-07 21:36:31,435 INFO chr22 (22/25)\n",
      "2022-06-07 21:36:47,276 INFO chrX (23/25)\n",
      "2022-06-07 21:37:34,056 INFO chrY (24/25)\n",
      "2022-06-07 21:37:42,904 INFO chrMT (25/25)\n"
     ]
    }
   ],
   "source": [
    "insulation = fanc.InsulationScores.from_hic(hic_10kb,\n",
    "                                            [100000],\n",
    "                                            file_name=\"fanc_insulation/inter30_10kb_100kb.insulation\")"
   ]
  },
  {
   "cell_type": "code",
   "execution_count": 9,
   "id": "surprised-outline",
   "metadata": {},
   "outputs": [
    {
     "data": {
      "text/plain": [
       "'fanc_insulation/inter30_10kb.insulation_100kb.bed'"
      ]
     },
     "execution_count": 9,
     "metadata": {},
     "output_type": "execute_result"
    }
   ],
   "source": [
    "insulation.to_bed(\"fanc_insulation/inter30_10kb.insulation_100kb.bed\", 100000)"
   ]
  },
  {
   "cell_type": "markdown",
   "id": "mathematical-activation",
   "metadata": {},
   "source": [
    "### Boundary calls"
   ]
  },
  {
   "cell_type": "code",
   "execution_count": 10,
   "id": "received-belly",
   "metadata": {},
   "outputs": [
    {
     "name": "stderr",
     "output_type": "stream",
     "text": [
      "/home/tun53987/.local/lib/python3.7/site-packages/fanc/tools/matrix.py:76: UserWarning: Warning: converting a masked element to nan.\n",
      "  delta[i] = np.ma.mean(x[down_slice] - x[i]) - np.ma.mean(x[up_slice] - x[i])\n",
      "2022-06-02 15:11:41,212 INFO Found 54544 raw peaks\n",
      "2022-06-02 15:11:42,306 INFO Found 26660 boundaries\n"
     ]
    }
   ],
   "source": [
    "boundaries = fanc.Boundaries.from_insulation_score(insulation, window_size=100000)"
   ]
  },
  {
   "cell_type": "code",
   "execution_count": 11,
   "id": "surprising-tiger",
   "metadata": {},
   "outputs": [],
   "source": [
    "boundaries.to_bed(\"fanc_insulation/inter30_10kb.boundaries_100kb.bed\")"
   ]
  },
  {
   "cell_type": "code",
   "execution_count": 12,
   "id": "rubber-douglas",
   "metadata": {},
   "outputs": [
    {
     "name": "stderr",
     "output_type": "stream",
     "text": [
      "2022-06-02 15:19:34,501 INFO Found 54544 raw peaks\n",
      "2022-06-02 15:19:35,740 INFO Found 25843 boundaries\n"
     ]
    }
   ],
   "source": [
    "robust_boundaries = fanc.Boundaries.from_insulation_score(insulation, window_size=100000,\n",
    "                                                          min_score=0.2)"
   ]
  },
  {
   "cell_type": "code",
   "execution_count": 13,
   "id": "irish-doctor",
   "metadata": {},
   "outputs": [],
   "source": [
    "robust_boundaries.to_bed(\"fanc_insulation/inter30_10kb.robust_0.2_boundaries_100kb.bed\")"
   ]
  },
  {
   "cell_type": "code",
   "execution_count": null,
   "id": "general-driving",
   "metadata": {},
   "outputs": [],
   "source": []
  }
 ],
 "metadata": {
  "kernelspec": {
   "display_name": "py39-test",
   "language": "python",
   "name": "py39-test"
  },
  "language_info": {
   "codemirror_mode": {
    "name": "ipython",
    "version": 3
   },
   "file_extension": ".py",
   "mimetype": "text/x-python",
   "name": "python",
   "nbconvert_exporter": "python",
   "pygments_lexer": "ipython3",
   "version": "3.7.3"
  }
 },
 "nbformat": 4,
 "nbformat_minor": 5
}
